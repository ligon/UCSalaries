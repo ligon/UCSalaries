{
  "cells": [
    {
      "cell_type": "markdown",
      "metadata": {},
      "source": [
        "## Data Data Sources & Info\n\n"
      ]
    },
    {
      "cell_type": "markdown",
      "metadata": {},
      "source": [
        "Data collected via [https://ucannualwage.ucop.edu/](https://ucannualwage.ucop.edu/), via the command line:\n\n"
      ]
    },
    {
      "cell_type": "code",
      "execution_count": 1,
      "metadata": {},
      "outputs": [],
      "source": [
        "year=2021\n\ncurl 'https://ucannualwage.ucop.edu/wage/search.action?_search=false&nd=1631391241333&rows=600000&page=1&sidx=EAW_LST_NAM&sord=asc&year=$year&location=ALL&firstname=&lastname=&title=&startSal=&endSal=' -o all-records-$year.json"
      ]
    },
    {
      "cell_type": "markdown",
      "metadata": {},
      "source": [
        "## Pay Descriptions\n\n"
      ]
    },
    {
      "cell_type": "markdown",
      "metadata": {},
      "source": [
        "Data reports both &ldquo;gross&rdquo; and &ldquo;regular&rdquo; pay.\n\n-   Gross Pay = base salary + additional funding (grants, etc)\n-   Regular Pay = base salary\n\n"
      ]
    },
    {
      "cell_type": "markdown",
      "metadata": {},
      "source": [
        "## Preface\n\n"
      ]
    },
    {
      "cell_type": "code",
      "execution_count": 1,
      "metadata": {},
      "outputs": [],
      "source": [
        "import pandas as pd\nimport numpy as np\nimport json\nimport re\n\n%matplotlib inline"
      ]
    },
    {
      "cell_type": "markdown",
      "metadata": {},
      "source": [
        "## Title Codes\n\n"
      ]
    },
    {
      "cell_type": "markdown",
      "metadata": {},
      "source": [
        "There is a complicated collection of titles corresponding to different codes.  That mapping is described here:\n\n"
      ]
    },
    {
      "cell_type": "code",
      "execution_count": 1,
      "metadata": {},
      "outputs": [],
      "source": [
        "TITLE_CODE_TYPE_SHEET = 'https://docs.google.com/spreadsheets/u/1/d/19MG1bKoQh6o6PAAYHAmdFyNpNspQ3tfQ6jpMbou_rw8/gviz/tq?tqx=out:csv&sheet=All%20UC%20Title%20Codes'\n\nTITLE_CODE_MAP = pd.read_csv(TITLE_CODE_TYPE_SHEET)\nprint(TITLE_CODE_MAP['Category'].unique())"
      ]
    },
    {
      "cell_type": "markdown",
      "metadata": {},
      "source": [
        "## Salary Data\n\n"
      ]
    },
    {
      "cell_type": "markdown",
      "metadata": {},
      "source": [
        "Some utility code to map salary data for range of years into a dataframe.\n\n"
      ]
    },
    {
      "cell_type": "code",
      "execution_count": 1,
      "metadata": {},
      "outputs": [],
      "source": [
        "PAY_COL = 'Regular Pay' # ALternatively \"Gross Pay\"\n\n# id is just the row number PER YEAR, but not super meaningful.\n# it is included in the JSON data.\nCOLUMNS = ['id', 'Year', 'Location', 'First Name', 'Last Name', 'Title', 'Gross Pay', 'Regular Pay', 'Overtime Pay', 'Other Pay']\n# LECT_PREFIX = 'LECT-' # Captures 'LECT-AY', excludes LECT PSOE / LECT SOE\n\ndef safe_parse(value):\n    try:\n        return float(value)\n    except:\n        return value\n\nDATA_LOADED = {}\ndef load_data_for_year(year):\n    raw_data = open(f\"data/json/all-records-{year}.json\").read()\n    raw_data = raw_data.replace(\"'\", '\"')\n    raw_data = re.sub(r'[\\x00-\\x1f\\x7f-\\x9f]', '', raw_data)\n    parsed = json.loads(raw_data)\n    data = [ [ safe_parse(value) for value in row['cell'] ] for row in parsed['rows'] ]\n\n    df = pd.DataFrame(data, columns= COLUMNS)\n\n    # Drop \"zero\" pay records\n    df = df.loc[ df[PAY_COL] > 0]\n\n    return df\n\ndef load_data(years=range(2012,2022)):\n    D = []\n    for t in years:\n        D.append(load_data_for_year(t))\n    return pd.concat(D)"
      ]
    },
    {
      "cell_type": "markdown",
      "metadata": {},
      "source": [
        "## Pay DataFrame\n\n"
      ]
    },
    {
      "cell_type": "markdown",
      "metadata": {},
      "source": [
        "Here we finally construct a dataframe for employee-titles.  This is for *everyone* employed system-wide over the specified time range.\n\n"
      ]
    },
    {
      "cell_type": "code",
      "execution_count": 1,
      "metadata": {},
      "outputs": [],
      "source": [
        "Pay = load_data()\nPay['Name'] = Pay['Last Name'].astype(str) + ', ' + Pay['First Name']\nPay['Year'] = Pay['Year'].astype(int)\nPay = Pay.set_index(['Name','Year'])\n\nPay"
      ]
    },
    {
      "cell_type": "markdown",
      "metadata": {},
      "source": [
        "Here are student titles\n\n"
      ]
    },
    {
      "cell_type": "code",
      "execution_count": 1,
      "metadata": {},
      "outputs": [],
      "source": [
        "def filter_by_school(df, location):\n    return df.loc[ df['Location'] == location ]\n\nvalid_categories = TITLE_CODE_MAP['Category'].unique()\ndef titles_in_category(df, category):\n    if not category or category == 'All':\n        return df # just don't filter.\n    if type(category) != list:\n        category = [category]\n    for c in category:\n        assert c in valid_categories,  f'\"{c}\" is not a valid title code category'\n    titles = TITLE_CODE_MAP[TITLE_CODE_MAP['Category'].isin(category)]['Title']\n    return df.loc[ df['Title'].isin(titles) ]\n\n\nTITLE_CODE_MAP.loc[TITLE_CODE_MAP['Category'].fillna('Missing').str.startswith('Student '),'Title']"
      ]
    },
    {
      "cell_type": "markdown",
      "metadata": {},
      "source": [
        "Now, construct different data frames for students, senate faculty, administrators, and employees of the athletic department.\n\n"
      ]
    },
    {
      "cell_type": "code",
      "execution_count": 1,
      "metadata": {},
      "outputs": [],
      "source": [
        "Student_pay = titles_in_category(Pay, ['Student Instruction','Student Reasearch'] )\nSenate_pay= titles_in_category(Pay, ['Senate'] )\nAdmin_pay = titles_in_category(Pay,['Admin','Admin Staff','Staff'])\nAthletic_pay = titles_in_category(Pay,['Athletics','Coach'])"
      ]
    },
    {
      "cell_type": "markdown",
      "metadata": {},
      "source": [
        "Take a look at growth rates of mean pay by type, just at Berkeley\n\n"
      ]
    },
    {
      "cell_type": "code",
      "execution_count": 1,
      "metadata": {},
      "outputs": [],
      "source": [
        "pay_by_type = pd.DataFrame({'Student':Student_pay.loc[Student_pay['Location']=='Berkeley'].groupby('Year')['Regular Pay'].sum(),\n              'Senate':Senate_pay.loc[Senate_pay['Location']=='Berkeley'].groupby('Year')['Regular Pay'].mean(),\n              'Admin':Admin_pay.loc[Admin_pay['Location']=='Berkeley'].groupby('Year')['Regular Pay'].mean(),\n              'Athletics':Athletic_pay.loc[Athletic_pay['Location']=='Berkeley'].groupby('Year')['Regular Pay'].mean()})\n\nnp.log(pay_by_type).diff().plot()"
      ]
    },
    {
      "cell_type": "markdown",
      "metadata": {},
      "source": [
        "Same, but systemwide\n\n"
      ]
    },
    {
      "cell_type": "code",
      "execution_count": 1,
      "metadata": {},
      "outputs": [],
      "source": [
        "pay_by_type = pd.DataFrame({'Student':Student_pay.groupby('Year')['Regular Pay'].sum(),\n              'Senate':Senate_pay.groupby('Year')['Regular Pay'].sum(),\n              'Admin':Admin_pay.groupby('Year')['Regular Pay'].sum()})\n              #'Athletics':Athletic_pay.groupby('Year')['Regular Pay'].mean()})\n\nnp.log(pay_by_type).diff().plot()"
      ]
    },
    {
      "cell_type": "markdown",
      "metadata": {},
      "source": [
        "Now look specifically at GSRs at Berkeley in 2021.  What&rsquo;s modal pay?  And let&rsquo;s see a graph.\n\n"
      ]
    },
    {
      "cell_type": "code",
      "execution_count": 1,
      "metadata": {},
      "outputs": [],
      "source": [
        "Student_pay.loc[Student_pay.Title.isin(['GSR-FULL FEE REM','GSR-TUIT & FEE REM'])*(Student_pay.Location=='Berkeley')].groupby(['Year','Location'])['Regular Pay'].apply(pd.Series.mode)\n\n\nax=Student_pay.loc[Student_pay.Title.isin(['GSR-FULL FEE REM','GSR-TUIT & FEE REM'])*(Student_pay.Location=='Berkeley')].query(\"Year==2021\")['Regular Pay'].hist(bins=50)\n\n# Uncomment this to see one of the teaching titles:\n#Student_pay.loc[Student_pay.Title.isin(['TEACHG ASST-1/10-GSHIP'])*(Student_pay.Location=='Berkeley')].query(\"Year==2021\")['Regular Pay'].hist(bins=20,ax=ax)"
      ]
    },
    {
      "cell_type": "markdown",
      "metadata": {},
      "source": [
        "And here&rsquo;s the most common student teaching title.  How much are GSIs actually paid?\n\n"
      ]
    },
    {
      "cell_type": "code",
      "execution_count": 1,
      "metadata": {},
      "outputs": [],
      "source": [
        "(Student_pay.loc[Student_pay.Title.isin(['TEACHG ASST-1/10-GSHIP'])*(Student_pay.Location=='Berkeley')].query(\"Year==2021\")['Regular Pay']).hist(bins=40)"
      ]
    },
    {
      "cell_type": "markdown",
      "metadata": {},
      "source": [
        "How does student pay vary across campuses, and across time?\n\n"
      ]
    },
    {
      "cell_type": "code",
      "execution_count": 1,
      "metadata": {},
      "outputs": [],
      "source": [
        "Student_pay.groupby(['Location','Year'])['Regular Pay'].mean().unstack('Location')"
      ]
    },
    {
      "cell_type": "markdown",
      "metadata": {},
      "source": [
        "Finally, looking just at pay in 2021 for students at Berkeley in 2021:\n\n"
      ]
    },
    {
      "cell_type": "code",
      "execution_count": 1,
      "metadata": {},
      "outputs": [],
      "source": [
        "salaries = load_data_for_year('2021')\n\nstudent_salaries = titles_in_category(salaries, ['Student Instruction','Student Reasearch'] ) \nall_berkeley_salaries = filter_by_school(salaries, 'Berkeley')\nberkeley_student_salaries = filter_by_school(student_salaries, \"Berkeley\")\n\n\nStudent_pay.query(\"Location=='Berkeley' and Year==2021\").groupby(['Year']).Title.value_counts()"
      ]
    }
  ],
  "metadata": {
    "org": null,
    "kernelspec": {
      "display_name": "Python 3",
      "language": "python",
      "name": "python3"
    },
    "language_info": {
      "codemirror_mode": {
        "name": "ipython",
        "version": 3
      },
      "file_extension": ".py",
      "mimetype": "text/x-python",
      "name": "python",
      "nbconvert_exporter": "python",
      "pygments_lexer": "ipython3",
      "version": "3.5.2"
    }
  },
  "nbformat": 4,
  "nbformat_minor": 0
}
